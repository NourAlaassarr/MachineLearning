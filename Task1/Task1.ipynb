{
 "cells": [
  {
   "cell_type": "code",
   "execution_count": 40,
   "id": "bded5edf",
   "metadata": {},
   "outputs": [],
   "source": [
    "import numpy as np \n",
    "import pandas as pd"
   ]
  },
  {
   "cell_type": "code",
   "execution_count": 41,
   "id": "52d7b7ea",
   "metadata": {},
   "outputs": [
    {
     "name": "stdout",
     "output_type": "stream",
     "text": [
      "    population    profit\n",
      "0       5.5277   9.13020\n",
      "1       8.5186  13.66200\n",
      "2       7.0032  11.85400\n",
      "3       5.8598   6.82330\n",
      "4       8.3829  11.88600\n",
      "..         ...       ...\n",
      "91      5.8707   7.20290\n",
      "92      5.3054   1.98690\n",
      "93      8.2934   0.14454\n",
      "94     13.3940   9.05510\n",
      "95      5.4369   0.61705\n",
      "\n",
      "[96 rows x 2 columns]\n"
     ]
    }
   ],
   "source": [
    "data=pd.read_csv(\"D:\\jupyterNoteBook\\Labs\\Lab3_Data\\data.csv\")\n",
    "\n",
    "print(data)\n"
   ]
  },
  {
   "cell_type": "code",
   "execution_count": 42,
   "id": "4aff04db",
   "metadata": {},
   "outputs": [],
   "source": [
    "theta0 , theta1=-3.63,1.16\n",
    "def prediction(data):\n",
    "    y=theta0+theta1*data\n",
    "    return y"
   ]
  },
  {
   "cell_type": "code",
   "execution_count": 44,
   "id": "ff0d181a",
   "metadata": {},
   "outputs": [],
   "source": [
    "meansquareError=np.mean(prediction(data[\"population\"])-data[\"profit\"]**2)"
   ]
  },
  {
   "cell_type": "code",
   "execution_count": 39,
   "id": "9596de28",
   "metadata": {},
   "outputs": [
    {
     "name": "stdout",
     "output_type": "stream",
     "text": [
      "6.982548792564667\n"
     ]
    }
   ],
   "source": [
    "print(meansquareError)"
   ]
  },
  {
   "cell_type": "code",
   "execution_count": 45,
   "id": "bae01ff9",
   "metadata": {},
   "outputs": [
    {
     "name": "stdout",
     "output_type": "stream",
     "text": [
      "0     7.3320\n",
      "1     6.5780\n",
      "2    -0.4980\n",
      "3    19.5700\n",
      "4     8.1904\n",
      "5     4.9540\n",
      "6     3.3300\n",
      "7     3.7360\n",
      "8     7.7380\n",
      "9    18.7580\n",
      "Name: population, dtype: float64\n"
     ]
    }
   ],
   "source": [
    "newData=pd.read_csv(\"D:\\\\jupyterNoteBook\\\\Labs\\\\Lab3_Data\\\\new_data.csv\",names=[\"city\",\"population\"])\n",
    "newData=newData[\"population\"]\n",
    "new_y=prediction(newData)\n",
    "print(new_y)"
   ]
  },
  {
   "cell_type": "code",
   "execution_count": null,
   "id": "f5ed8481",
   "metadata": {},
   "outputs": [],
   "source": [
    " "
   ]
  },
  {
   "cell_type": "code",
   "execution_count": null,
   "id": "2c667230",
   "metadata": {},
   "outputs": [],
   "source": []
  }
 ],
 "metadata": {
  "kernelspec": {
   "display_name": "Python 3 (ipykernel)",
   "language": "python",
   "name": "python3"
  },
  "language_info": {
   "codemirror_mode": {
    "name": "ipython",
    "version": 3
   },
   "file_extension": ".py",
   "mimetype": "text/x-python",
   "name": "python",
   "nbconvert_exporter": "python",
   "pygments_lexer": "ipython3",
   "version": "3.11.4"
  }
 },
 "nbformat": 4,
 "nbformat_minor": 5
}
